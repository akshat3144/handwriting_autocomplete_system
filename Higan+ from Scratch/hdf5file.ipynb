{
 "cells": [
  {
   "cell_type": "code",
   "execution_count": 1,
   "id": "c4f15e10",
   "metadata": {},
   "outputs": [
    {
     "name": "stdout",
     "output_type": "stream",
     "text": [
      "['img_lens', 'img_seek_idxs', 'imgs', 'lb_lens', 'lb_seek_idxs', 'lbs', 'wids']\n"
     ]
    }
   ],
   "source": [
    "import h5py\n",
    "f = h5py.File('iam/testset_words64_OrgSz.hdf5', 'r')\n",
    "print(list(f.keys()))\n"
   ]
  },
  {
   "cell_type": "code",
   "execution_count": null,
   "id": "d4d0fdc6",
   "metadata": {},
   "outputs": [
    {
     "name": "stdout",
     "output_type": "stream",
     "text": [
      "<HDF5 dataset \"img_lens\": shape (11170,), type \"<i2\">\n"
     ]
    }
   ],
   "source": []
  }
 ],
 "metadata": {
  "kernelspec": {
   "display_name": "dl_proj",
   "language": "python",
   "name": "python3"
  },
  "language_info": {
   "codemirror_mode": {
    "name": "ipython",
    "version": 3
   },
   "file_extension": ".py",
   "mimetype": "text/x-python",
   "name": "python",
   "nbconvert_exporter": "python",
   "pygments_lexer": "ipython3",
   "version": "3.11.13"
  }
 },
 "nbformat": 4,
 "nbformat_minor": 5
}
