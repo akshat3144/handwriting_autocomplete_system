{
 "cells": [
  {
   "cell_type": "code",
   "execution_count": null,
   "id": "eefb4e3b",
   "metadata": {},
   "outputs": [],
   "source": []
  }
 ],
 "metadata": {
  "kernelspec": {
   "display_name": "dl_proj",
   "language": "python",
   "name": "python3"
  },
  "language_info": {
   "name": "python",
   "version": "3.11.13"
  }
 },
 "nbformat": 4,
 "nbformat_minor": 5
}
